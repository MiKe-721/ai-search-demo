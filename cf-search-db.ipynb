{
 "cells": [
  {
   "cell_type": "code",
   "execution_count": 28,
   "metadata": {},
   "outputs": [],
   "source": [
    "import os\n",
    "import numpy as np\n",
    "import openai\n",
    "from supabase import create_client, Client\n",
    "import requests\n",
    "from readability import Document\n",
    "from bs4 import BeautifulSoup"
   ]
  },
  {
   "cell_type": "code",
   "execution_count": 29,
   "metadata": {},
   "outputs": [],
   "source": [
    "supabase_url = os.environ['NEXT_PUBLIC_SUPABASE_URL']\n",
    "supabase_anon_key = os.environ['NEXT_PUBLIC_SUPABASE_ANON_KEY']\n",
    "openai_api_key = os.environ['OPENAI_API_KEY']"
   ]
  },
  {
   "cell_type": "code",
   "execution_count": 30,
   "metadata": {},
   "outputs": [],
   "source": [
    "openai.api_key = openai_api_key"
   ]
  },
  {
   "cell_type": "code",
   "execution_count": 31,
   "metadata": {},
   "outputs": [],
   "source": [
    "supabase: Client = create_client(supabase_url, supabase_anon_key)"
   ]
  },
  {
   "cell_type": "code",
   "execution_count": 39,
   "metadata": {},
   "outputs": [],
   "source": [
    "urls = [\n",
    "  'https://devlog.mescius.jp/nextjs-quickstart/',\n",
    "]"
   ]
  },
  {
   "cell_type": "code",
   "execution_count": 44,
   "metadata": {},
   "outputs": [],
   "source": [
    "max_size = 500\n",
    "\n",
    "# 文書処理関数\n",
    "def process_documents(urls):\n",
    "    documents = []\n",
    "\n",
    "    for url in urls:\n",
    "        # 記事の内容を取得\n",
    "        response = requests.get(url)\n",
    "        doc = Document(response.text)\n",
    "        readable_article = doc.summary()\n",
    "        # BeautifulSoupを使ってHTMLタグを削除\n",
    "        soup = BeautifulSoup(readable_article, 'html.parser')\n",
    "        article_text = soup.get_text()\n",
    "\n",
    "        if not article_text:\n",
    "            raise ValueError(f\"内容の取得に失敗しました: {url}\")\n",
    "\n",
    "        start = 0\n",
    "        while start < len(article_text):\n",
    "            # 文章を分割\n",
    "            end = start + max_size\n",
    "            chunk = article_text[start:end]\n",
    "            documents.append({'url': url, 'body': chunk})\n",
    "            start = end\n",
    "\n",
    "        # 古いデータを削除\n",
    "        supabase.table('documents').delete().eq('url', url).execute()\n",
    "\n",
    "    for document in documents:\n",
    "        # 改行を空白に変換\n",
    "        input_text = document['body'].replace('\\n', ' ')\n",
    "\n",
    "        # Embedding\n",
    "        # 文章をベクトルに変換\n",
    "        embedding_response = openai.Embedding.create(input=input_text, model=\"text-embedding-ada-002\")\n",
    "\n",
    "        # ベクトル取得\n",
    "        embedding = embedding_response['data'][0]['embedding']\n",
    "\n",
    "        # テーブル作成\n",
    "        supabase.table('documents').insert({\n",
    "            'content': input_text,\n",
    "            'embedding': embedding,\n",
    "            'url': document['url']\n",
    "        }).execute()\n",
    "\n",
    "    print('Document processing and insertion complete.')"
   ]
  },
  {
   "cell_type": "code",
   "execution_count": 45,
   "metadata": {},
   "outputs": [
    {
     "name": "stderr",
     "output_type": "stream",
     "text": [
      "2023-11-05 00:35:14,552:INFO - HTTP Request: DELETE https://ogvafqdckdxorurwynoi.supabase.co/rest/v1/documents?url=eq.https%3A//devlog.mescius.jp/nextjs-quickstart/ \"HTTP/1.1 200 OK\"\n",
      "2023-11-05 00:35:15,018:INFO - HTTP Request: POST https://ogvafqdckdxorurwynoi.supabase.co/rest/v1/documents \"HTTP/1.1 201 Created\"\n",
      "2023-11-05 00:35:15,390:INFO - HTTP Request: POST https://ogvafqdckdxorurwynoi.supabase.co/rest/v1/documents \"HTTP/1.1 201 Created\"\n",
      "2023-11-05 00:35:15,716:INFO - HTTP Request: POST https://ogvafqdckdxorurwynoi.supabase.co/rest/v1/documents \"HTTP/1.1 201 Created\"\n",
      "2023-11-05 00:35:16,155:INFO - HTTP Request: POST https://ogvafqdckdxorurwynoi.supabase.co/rest/v1/documents \"HTTP/1.1 201 Created\"\n",
      "2023-11-05 00:35:16,497:INFO - HTTP Request: POST https://ogvafqdckdxorurwynoi.supabase.co/rest/v1/documents \"HTTP/1.1 201 Created\"\n",
      "2023-11-05 00:35:16,846:INFO - HTTP Request: POST https://ogvafqdckdxorurwynoi.supabase.co/rest/v1/documents \"HTTP/1.1 201 Created\"\n",
      "2023-11-05 00:35:17,220:INFO - HTTP Request: POST https://ogvafqdckdxorurwynoi.supabase.co/rest/v1/documents \"HTTP/1.1 201 Created\"\n",
      "2023-11-05 00:35:17,577:INFO - HTTP Request: POST https://ogvafqdckdxorurwynoi.supabase.co/rest/v1/documents \"HTTP/1.1 201 Created\"\n"
     ]
    },
    {
     "name": "stdout",
     "output_type": "stream",
     "text": [
      "Document processing and insertion complete.\n"
     ]
    }
   ],
   "source": [
    "if __name__ == '__main__':\n",
    "    process_documents(urls)"
   ]
  },
  {
   "cell_type": "code",
   "execution_count": null,
   "metadata": {},
   "outputs": [],
   "source": []
  }
 ],
 "metadata": {
  "kernelspec": {
   "display_name": ".cf-search",
   "language": "python",
   "name": "python3"
  },
  "language_info": {
   "codemirror_mode": {
    "name": "ipython",
    "version": 3
   },
   "file_extension": ".py",
   "mimetype": "text/x-python",
   "name": "python",
   "nbconvert_exporter": "python",
   "pygments_lexer": "ipython3",
   "version": "3.11.0"
  }
 },
 "nbformat": 4,
 "nbformat_minor": 2
}
