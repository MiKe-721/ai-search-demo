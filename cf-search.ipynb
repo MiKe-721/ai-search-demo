{
 "cells": [
  {
   "cell_type": "code",
   "execution_count": 1,
   "metadata": {},
   "outputs": [],
   "source": [
    "import os\n",
    "import openai\n",
    "from supabase import create_client, Client\n",
    "import requests"
   ]
  },
  {
   "cell_type": "code",
   "execution_count": 2,
   "metadata": {},
   "outputs": [],
   "source": [
    "supabase_url = os.environ['NEXT_PUBLIC_SUPABASE_URL']\n",
    "supabase_anon_key = os.environ['NEXT_PUBLIC_SUPABASE_ANON_KEY']\n",
    "openai_api_key = os.environ['OPENAI_API_KEY']"
   ]
  },
  {
   "cell_type": "code",
   "execution_count": 4,
   "metadata": {},
   "outputs": [],
   "source": [
    "openai.api_key = openai_api_key\n",
    "supabase: Client = create_client(supabase_url, supabase_anon_key)"
   ]
  },
  {
   "cell_type": "code",
   "execution_count": 50,
   "metadata": {},
   "outputs": [],
   "source": [
    "def calculate_average_similarities(results):\n",
    "    # 各URLに対する類似度の平均値を計算する。\n",
    "    url_similarities = {}\n",
    "    for result in results:\n",
    "        url = result['url']\n",
    "        similarity = result['similarity']\n",
    "        if url in url_similarities:\n",
    "            url_similarities[url].append(similarity)\n",
    "        else:\n",
    "            url_similarities[url] = [similarity]\n",
    "\n",
    "    return {url: sum(similarities) / len(similarities) for url, similarities in url_similarities.items()}\n",
    "\n",
    "def process_response(response):\n",
    "    # Supabaseからのレスポンスを処理し、各URLの平均類似度を表示する。\n",
    "    try:\n",
    "        results = response.data\n",
    "        average_similarities = calculate_average_similarities(results)\n",
    "        for url, avg_similarity in average_similarities.items():\n",
    "            print(f\"URL: {url}, Average Similarity: {avg_similarity:.2f}\")\n",
    "    except Exception as e:\n",
    "        print(\"エラーが発生しました: \", e)\n",
    "\n",
    "\n",
    "def find_similar_documents(prompt, similarity_threshold=0.1, match_count=5):\n",
    "    # プロンプトからベクトルを生成\n",
    "    embedding_response = openai.Embedding.create(input=prompt, model=\"text-embedding-ada-002\")\n",
    "    query_embedding = embedding_response['data'][0]['embedding']\n",
    "\n",
    "    # Supabase RPCを使用して類似ドキュメントを取得\n",
    "    response = supabase.rpc(\n",
    "        'match_documents',\n",
    "        {\n",
    "            'query_embedding': query_embedding,\n",
    "            'similarity_threshold': similarity_threshold,\n",
    "            'match_count': match_count\n",
    "        }\n",
    "    # 直接レスポンスオブジェクトは表示させず、レスポンスデータを取得する\n",
    "    ).execute()\n",
    "\n",
    "    process_response(response)"
   ]
  },
  {
   "cell_type": "code",
   "execution_count": 52,
   "metadata": {},
   "outputs": [
    {
     "name": "stderr",
     "output_type": "stream",
     "text": [
      "2023-11-12 04:37:50,300:INFO - HTTP Request: POST https://ogvafqdckdxorurwynoi.supabase.co/rest/v1/rpc/match_documents \"HTTP/1.1 200 OK\"\n"
     ]
    },
    {
     "name": "stdout",
     "output_type": "stream",
     "text": [
      "URL: https://udemy.benesse.co.jp/development/app/react-beginner.html, Average Similarity: 0.14\n",
      "URL: https://www.alobridge.com/blog/1266/, Average Similarity: 0.14\n",
      "URL: https://ja.wikipedia.org/wiki/React, Average Similarity: 0.14\n"
     ]
    }
   ],
   "source": [
    "find_similar_documents(\"Reactについて教えてください\")"
   ]
  },
  {
   "cell_type": "code",
   "execution_count": null,
   "metadata": {},
   "outputs": [],
   "source": []
  }
 ],
 "metadata": {
  "kernelspec": {
   "display_name": ".cf-search",
   "language": "python",
   "name": "python3"
  },
  "language_info": {
   "codemirror_mode": {
    "name": "ipython",
    "version": 3
   },
   "file_extension": ".py",
   "mimetype": "text/x-python",
   "name": "python",
   "nbconvert_exporter": "python",
   "pygments_lexer": "ipython3",
   "version": "3.11.0"
  }
 },
 "nbformat": 4,
 "nbformat_minor": 2
}
